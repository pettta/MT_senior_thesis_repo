{
 "cells": [
  {
   "cell_type": "markdown",
   "id": "a2e6a534-d835-458c-b2ff-15a8c74520a4",
   "metadata": {},
   "source": [
    "# Assemble Testing Dataset "
   ]
  },
  {
   "cell_type": "markdown",
   "id": "92bc1700-3360-45b3-bd1e-c62cbe748c08",
   "metadata": {},
   "source": [
    "## PheMT paper specifies that proper noun and abbreviated noun provide the most benefit"
   ]
  },
  {
   "cell_type": "code",
   "execution_count": 30,
   "id": "be14d1e9-c6f7-439d-a6ab-f1dafcd34ce2",
   "metadata": {},
   "outputs": [],
   "source": [
    "import pandas as pd \n",
    "import numpy as np\n"
   ]
  },
  {
   "cell_type": "code",
   "execution_count": 31,
   "id": "db2972ea-5987-4168-8f98-04f7a45123e6",
   "metadata": {},
   "outputs": [
    {
     "name": "stdout",
     "output_type": "stream",
     "text": [
      "       sid                                                 ja  \\\n",
      "0      bl0                           🎊  *(小声) BiSHの曲* (〃'∇'〃)   \n",
      "1    bl104  >元スーパースターのウサイン・ボルト氏    こうなったらもうスーパースターじゃない、みたい...   \n",
      "2     bl11                                        (ファミチキください)   \n",
      "3    bl118                                  Anime＜Hentai だからね   \n",
      "4    bl120                                      Bundle(ゲーム１本)   \n",
      "..     ...                                                ...   \n",
      "342  tr694                           【筋トレ】半年間逆立ちをやり続けたらこうなった！   \n",
      "343  tr772                                     ＧＤＰ、２８年ぶり８期連続増   \n",
      "344  tr789                                          ＷＨＯが公式に認定   \n",
      "345   tr80            22日東京株前場 日経平均続伸、173円高  介入のせいか円高株高になっちゅう   \n",
      "346  tr979                              お兄様キャラに萌えるとは流石に思わなかった   \n",
      "\n",
      "                                                    en  average       expr  \\\n",
      "0          🎊  *(in a small voice) BiSH's song* (〃'∇'〃)     5.00       BiSH   \n",
      "1    >ex superstar Usain St. Leo Bolt, is there any...     4.00  ウサイン・ボルト氏   \n",
      "2           (Please give me Family Mart Fried Chicken)     5.00      ファミチキ   \n",
      "3                          That's because Anime<Hentai     4.33      Anime   \n",
      "4                                    Bundle (One game)     5.00     Bundle   \n",
      "..                                                 ...      ...        ...   \n",
      "342  [Muscle Training] It has become like this afte...     4.33        筋トレ   \n",
      "343  GDP, first time in 28 years to see increase 8 ...     4.33        ＧＤＰ   \n",
      "344                     Public acknowledgement by WHO.     4.67        ＷＨＯ   \n",
      "345  22nd, Tokyo Stock Exchange Morning Market, Nik...     4.33       日経平均   \n",
      "346  I didn't think I'd find a big brother characte...     5.00        キャラ   \n",
      "\n",
      "                  aligned_expr  \n",
      "0                         BiSH  \n",
      "1           Usain St. Leo Bolt  \n",
      "2    Family Mart Fried Chicken  \n",
      "3                        Anime  \n",
      "4                       Bundle  \n",
      "..                         ...  \n",
      "342            Muscle Training  \n",
      "343                        GDP  \n",
      "344                        WHO  \n",
      "345               Nikkei Index  \n",
      "346                  character  \n",
      "\n",
      "[1285 rows x 6 columns]\n"
     ]
    }
   ],
   "source": [
    "proper_df = pd.read_csv(\"./PheMT/proper/proper.tsv\", sep='\\t')\n",
    "abbrev_df = pd.read_csv(\"./PheMT/abbrev/abbrev.tsv\", sep='\\t')\n",
    "abbrev_df = abbrev_df.drop('normalized', axis=1) \n",
    "phe_mt_master_df = pd.concat([proper_df, abbrev_df], axis=0) \n",
    "print(phe_mt_master_df)"
   ]
  },
  {
   "cell_type": "code",
   "execution_count": 28,
   "id": "d097e66b-d61d-49da-91fb-3c396156d0a6",
   "metadata": {},
   "outputs": [],
   "source": [
    "def write_phemt_df_to_txt(df, column_name, file_path):\n",
    "    \"\"\"\n",
    "    Write a specific column of a pandas DataFrame to a text file with each value on a separate line.\n",
    "    \n",
    "    Args:\n",
    "        df (pd.DataFrame): The DataFrame containing the column to write to the text file.\n",
    "        column_name (str): The name of the column to write to the text file.\n",
    "        file_path (str): The relative file path to write the text file to.\n",
    "    \"\"\"\n",
    "    with open(file_path, 'w') as f:\n",
    "        for value in df[column_name]:\n",
    "            f.write(str(value) + '\\n')"
   ]
  },
  {
   "cell_type": "code",
   "execution_count": 34,
   "id": "a8c7c214-994a-4e0b-a7c0-3eefa1f617bb",
   "metadata": {},
   "outputs": [],
   "source": [
    "write_phemt_df_to_txt(phe_mt_master_df, 'ja', './datasets/public/pheMT_final/raw.ja')\n",
    "write_phemt_df_to_txt(phe_mt_master_df, 'en', './datasets/public/pheMT_final/raw.en')"
   ]
  }
 ],
 "metadata": {
  "kernelspec": {
   "display_name": "Python 3 (ipykernel)",
   "language": "python",
   "name": "python3"
  },
  "language_info": {
   "codemirror_mode": {
    "name": "ipython",
    "version": 3
   },
   "file_extension": ".py",
   "mimetype": "text/x-python",
   "name": "python",
   "nbconvert_exporter": "python",
   "pygments_lexer": "ipython3",
   "version": "3.10.7"
  }
 },
 "nbformat": 4,
 "nbformat_minor": 5
}
